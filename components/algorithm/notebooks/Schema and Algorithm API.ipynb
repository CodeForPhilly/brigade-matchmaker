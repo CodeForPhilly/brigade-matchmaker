{
 "cells": [
  {
   "cell_type": "markdown",
   "metadata": {},
   "source": [
    "## Algorithm\n",
    "\n",
    "This notebook is where we'll design our algorithm and its api. \n",
    "\n",
    "To begin, we will need a schema definition for Users and Projects which we'll define here.\n",
    "\n",
    "### Technologies:\n",
    "* [yaml](https://learn.getgrav.org/advanced/yaml) for definining the data model\n",
    "* [cerberus](http://docs.python-cerberus.org) for validating the schema based on its validation [rules](http://docs.python-cerberus.org/en/stable/validation-rules.html)"
   ]
  },
  {
   "cell_type": "markdown",
   "metadata": {},
   "source": [
    "### User data model"
   ]
  },
  {
   "cell_type": "code",
   "execution_count": 37,
   "metadata": {
    "collapsed": false
   },
   "outputs": [
    {
     "data": {
      "text/plain": [
       "True"
      ]
     },
     "execution_count": 37,
     "metadata": {},
     "output_type": "execute_result"
    }
   ],
   "source": [
    "from cerberus import Validator\n",
    "import yaml\n",
    "\n",
    "user_yaml = '''\n",
    "\n",
    "name:\n",
    "    type: string\n",
    "    empty: False\n",
    "    \n",
    "email:\n",
    "    type: string\n",
    "    regex: (^[a-zA-Z0-9_.+-]+@[a-zA-Z0-9-]+\\.[a-zA-Z0-9-.]+$)\n",
    "    empty: False\n",
    "    \n",
    "skills:\n",
    "    type: list\n",
    "\n",
    "technology_interests:\n",
    "    type: list\n",
    "\n",
    "causes_interests:\n",
    "    type: list\n",
    "    \n",
    "role_interests:\n",
    "    type: list\n",
    "\n",
    "'''\n",
    "\n",
    "# convert yaml to python dictionary\n",
    "user_schema = yaml.load(user_yaml)\n",
    "\n",
    "# initialize validator for our schema\n",
    "user_validator = Validator(user_schema)\n",
    "\n",
    "# create example user\n",
    "example_user = {\n",
    "    'name':\n",
    "        'Stephan',\n",
    "    \n",
    "    'email':\n",
    "        'knowsuchagency@gmail.com',\n",
    "    \n",
    "    'skills':\n",
    "        ['python', 'sql', 'nosql', 'web development'],\n",
    "    \n",
    "    'technology_interests':\n",
    "        ['javascript', 'front-end', 'visualization'],\n",
    "    \n",
    "    'causes_interests':\n",
    "        ['government', 'homelessness', 'education'],\n",
    "    \n",
    "    'role_interests':\n",
    "        ['engineer', 'project_lead']\n",
    "}\n",
    "\n",
    "# test example user\n",
    "# should output True\n",
    "user_validator.validate(example_user)"
   ]
  },
  {
   "cell_type": "code",
   "execution_count": null,
   "metadata": {
    "collapsed": true
   },
   "outputs": [],
   "source": []
  }
 ],
 "metadata": {
  "kernelspec": {
   "display_name": "Python 3",
   "language": "python",
   "name": "python3"
  },
  "language_info": {
   "codemirror_mode": {
    "name": "ipython",
    "version": 3
   },
   "file_extension": ".py",
   "mimetype": "text/x-python",
   "name": "python",
   "nbconvert_exporter": "python",
   "pygments_lexer": "ipython3",
   "version": "3.5.2"
  }
 },
 "nbformat": 4,
 "nbformat_minor": 1
}
